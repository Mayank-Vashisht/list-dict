{
  "nbformat": 4,
  "nbformat_minor": 0,
  "metadata": {
    "colab": {
      "name": "Primenumber.ipynb",
      "provenance": [],
      "authorship_tag": "ABX9TyNiwMfXf4E1c+SW0Oezni2H",
      "include_colab_link": true
    },
    "kernelspec": {
      "name": "python3",
      "display_name": "Python 3"
    }
  },
  "cells": [
    {
      "cell_type": "markdown",
      "metadata": {
        "id": "view-in-github",
        "colab_type": "text"
      },
      "source": [
        "<a href=\"https://colab.research.google.com/github/Mayank-Vashisht/list-dict/blob/main/Primenumber.ipynb\" target=\"_parent\"><img src=\"https://colab.research.google.com/assets/colab-badge.svg\" alt=\"Open In Colab\"/></a>"
      ]
    },
    {
      "cell_type": "code",
      "metadata": {
        "colab": {
          "base_uri": "https://localhost:8080/"
        },
        "id": "ldpKZHDsVMYn",
        "outputId": "554e3dbd-c94d-4389-c62b-a1224c9ad8cb"
      },
      "source": [
        " number = int(input(\"Enter any number: \"))\n",
        " \n",
        "if number > 1:\n",
        "    for i in range(2, number):\n",
        "        if (number % i) == 0:\n",
        "            print(number, \"is not a prime number\")\n",
        "            break\n",
        "    else:\n",
        "        print(number, \"is a prime number\")\n",
        " \n",
        "else:\n",
        "    print(number, \"is not a prime number\")"
      ],
      "execution_count": null,
      "outputs": [
        {
          "output_type": "stream",
          "text": [
            "Enter any number: 11\n",
            "11 is a prime number\n"
          ],
          "name": "stdout"
        }
      ]
    }
  ]
}