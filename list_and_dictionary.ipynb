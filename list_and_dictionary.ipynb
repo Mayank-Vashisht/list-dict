{
  "nbformat": 4,
  "nbformat_minor": 0,
  "metadata": {
    "colab": {
      "name": "list and dictionary",
      "provenance": [],
      "authorship_tag": "ABX9TyOzWDGHq2hcFX+Jo839Oeig",
      "include_colab_link": true
    },
    "kernelspec": {
      "name": "python3",
      "display_name": "Python 3"
    }
  },
  "cells": [
    {
      "cell_type": "markdown",
      "metadata": {
        "id": "view-in-github",
        "colab_type": "text"
      },
      "source": [
        "<a href=\"https://colab.research.google.com/github/Mayank-Vashisht/list-dict/blob/main/list_and_dictionary.ipynb\" target=\"_parent\"><img src=\"https://colab.research.google.com/assets/colab-badge.svg\" alt=\"Open In Colab\"/></a>"
      ]
    },
    {
      "cell_type": "code",
      "metadata": {
        "colab": {
          "base_uri": "https://localhost:8080/"
        },
        "id": "M6Kto9CHnldR",
        "outputId": "74e8add1-5588-4874-f805-5975f13718e1"
      },
      "source": [
        "list=[3,4,5,67,78,9]\r\n",
        "list\r\n"
      ],
      "execution_count": 2,
      "outputs": [
        {
          "output_type": "execute_result",
          "data": {
            "text/plain": [
              "[3, 4, 5, 67, 78, 9]"
            ]
          },
          "metadata": {
            "tags": []
          },
          "execution_count": 2
        }
      ]
    },
    {
      "cell_type": "code",
      "metadata": {
        "colab": {
          "base_uri": "https://localhost:8080/"
        },
        "id": "ZZBtgXJHn5WL",
        "outputId": "cb2c4bbe-40ad-40a9-fa99-455698daeeb2"
      },
      "source": [
        "list.sort()\r\n",
        "list"
      ],
      "execution_count": 3,
      "outputs": [
        {
          "output_type": "execute_result",
          "data": {
            "text/plain": [
              "[3, 4, 5, 9, 67, 78]"
            ]
          },
          "metadata": {
            "tags": []
          },
          "execution_count": 3
        }
      ]
    },
    {
      "cell_type": "code",
      "metadata": {
        "colab": {
          "base_uri": "https://localhost:8080/"
        },
        "id": "xChTyk9ioEf7",
        "outputId": "ac847dff-641d-4e80-d1dc-755169d64890"
      },
      "source": [
        "\r\n",
        "list.append(85)\r\n",
        "list"
      ],
      "execution_count": 4,
      "outputs": [
        {
          "output_type": "execute_result",
          "data": {
            "text/plain": [
              "[3, 4, 5, 9, 67, 78, 85]"
            ]
          },
          "metadata": {
            "tags": []
          },
          "execution_count": 4
        }
      ]
    },
    {
      "cell_type": "code",
      "metadata": {
        "colab": {
          "base_uri": "https://localhost:8080/"
        },
        "id": "0wVRe5a9oQN2",
        "outputId": "0ec5a1fa-4ed6-41c5-e1e4-9794a0463a93"
      },
      "source": [
        "\r\n",
        "list.extend([76,7,54])\r\n",
        "list"
      ],
      "execution_count": 5,
      "outputs": [
        {
          "output_type": "execute_result",
          "data": {
            "text/plain": [
              "[3, 4, 5, 9, 67, 78, 85, 76, 7, 54]"
            ]
          },
          "metadata": {
            "tags": []
          },
          "execution_count": 5
        }
      ]
    },
    {
      "cell_type": "code",
      "metadata": {
        "colab": {
          "base_uri": "https://localhost:8080/"
        },
        "id": "POSByBTroarb",
        "outputId": "b5ef2fc9-a54b-47ba-ed79-233f8596fca7"
      },
      "source": [
        "\r\n",
        "list.reverse()\r\n",
        "list"
      ],
      "execution_count": 6,
      "outputs": [
        {
          "output_type": "execute_result",
          "data": {
            "text/plain": [
              "[54, 7, 76, 85, 78, 67, 9, 5, 4, 3]"
            ]
          },
          "metadata": {
            "tags": []
          },
          "execution_count": 6
        }
      ]
    },
    {
      "cell_type": "code",
      "metadata": {
        "colab": {
          "base_uri": "https://localhost:8080/"
        },
        "id": "aZ9gm5mSojof",
        "outputId": "ad8325ca-8dcb-414b-f1bf-a21b144d3ac8"
      },
      "source": [
        "#dictionary\r\n",
        "#empty dictionary\r\n",
        "dict={}\r\n",
        "dict"
      ],
      "execution_count": 7,
      "outputs": [
        {
          "output_type": "execute_result",
          "data": {
            "text/plain": [
              "{}"
            ]
          },
          "metadata": {
            "tags": []
          },
          "execution_count": 7
        }
      ]
    },
    {
      "cell_type": "code",
      "metadata": {
        "colab": {
          "base_uri": "https://localhost:8080/"
        },
        "id": "vXi87W6BpB9F",
        "outputId": "b80b740f-3ae0-4d56-b27a-8889c67dbb40"
      },
      "source": [
        "dict={1:'apple',2:'mango'}\r\n",
        "dict"
      ],
      "execution_count": 9,
      "outputs": [
        {
          "output_type": "execute_result",
          "data": {
            "text/plain": [
              "{1: 'apple', 2: 'mango'}"
            ]
          },
          "metadata": {
            "tags": []
          },
          "execution_count": 9
        }
      ]
    },
    {
      "cell_type": "code",
      "metadata": {
        "colab": {
          "base_uri": "https://localhost:8080/"
        },
        "id": "4ngTZD48poJ8",
        "outputId": "d923502c-0357-4a6a-d421-bfeb89c64486"
      },
      "source": [
        "dict={'name':'mayank',1:[2,4,6]}\r\n",
        "dict\r\n"
      ],
      "execution_count": 10,
      "outputs": [
        {
          "output_type": "execute_result",
          "data": {
            "text/plain": [
              "{1: [2, 4, 6], 'name': 'mayank'}"
            ]
          },
          "metadata": {
            "tags": []
          },
          "execution_count": 10
        }
      ]
    },
    {
      "cell_type": "code",
      "metadata": {
        "colab": {
          "base_uri": "https://localhost:8080/"
        },
        "id": "iYgITwW9p9cf",
        "outputId": "a8c37f7f-ebe5-45f3-8c7b-83838b52086e"
      },
      "source": [
        "dict={'name':'mayank','age':20}\r\n",
        "print(dict['age'])"
      ],
      "execution_count": 16,
      "outputs": [
        {
          "output_type": "stream",
          "text": [
            "20\n"
          ],
          "name": "stdout"
        }
      ]
    },
    {
      "cell_type": "code",
      "metadata": {
        "colab": {
          "base_uri": "https://localhost:8080/"
        },
        "id": "2jf3FIVLrL-B",
        "outputId": "79048af2-a2eb-4372-b097-a83be984a98f"
      },
      "source": [
        "dict={'name':'mayank','age':20}\r\n",
        "dict['age']=21\r\n",
        "dict\r\n",
        " "
      ],
      "execution_count": 19,
      "outputs": [
        {
          "output_type": "execute_result",
          "data": {
            "text/plain": [
              "{'age': 21, 'name': 'mayank'}"
            ]
          },
          "metadata": {
            "tags": []
          },
          "execution_count": 19
        }
      ]
    }
  ]
}